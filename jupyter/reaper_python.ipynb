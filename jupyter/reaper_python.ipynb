{
 "cells": [
  {
   "cell_type": "code",
   "execution_count": 1,
   "id": "0c97f1a4-d463-4857-9a9f-cb981a3d04ef",
   "metadata": {},
   "outputs": [],
   "source": [
    "import os\n",
    "import numpy as np\n",
    "from ctypes import CDLL, POINTER, c_int16, c_int32, c_double, c_int\n",
    "from scipy.io import wavfile"
   ]
  },
  {
   "cell_type": "code",
   "execution_count": 2,
   "id": "7a85fb85-b78d-4cb8-9ef6-3474b11e05af",
   "metadata": {},
   "outputs": [],
   "source": [
    "current_dir = os.path.dirname(os.path.realpath(os.path.abspath('')))\n",
    "shared_file = os.path.normpath(current_dir + '/build/libreaper_c_api.dylib')\n",
    "reaper = CDLL(shared_file)\n",
    "\n",
    "reaper.helloworld.restype = c_int"
   ]
  },
  {
   "cell_type": "code",
   "execution_count": 3,
   "id": "0efe0644-1fc0-4791-a237-a00bf6e0d0ff",
   "metadata": {},
   "outputs": [
    {
     "data": {
      "text/plain": [
       "42"
      ]
     },
     "execution_count": 3,
     "metadata": {},
     "output_type": "execute_result"
    }
   ],
   "source": [
    "reaper.helloworld()"
   ]
  },
  {
   "cell_type": "code",
   "execution_count": null,
   "id": "8adad854-80f1-42a9-823c-3bedc50aab62",
   "metadata": {},
   "outputs": [],
   "source": []
  }
 ],
 "metadata": {
  "kernelspec": {
   "display_name": "Python 3 (ipykernel)",
   "language": "python",
   "name": "python3"
  },
  "language_info": {
   "codemirror_mode": {
    "name": "ipython",
    "version": 3
   },
   "file_extension": ".py",
   "mimetype": "text/x-python",
   "name": "python",
   "nbconvert_exporter": "python",
   "pygments_lexer": "ipython3",
   "version": "3.10.6"
  }
 },
 "nbformat": 4,
 "nbformat_minor": 5
}
