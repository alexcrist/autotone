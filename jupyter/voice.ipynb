{
 "cells": [
  {
   "cell_type": "code",
   "execution_count": null,
   "id": "84cc3c5b-f4bc-4a34-b661-19789a3007ad",
   "metadata": {},
   "outputs": [],
   "source": [
    "import os\n",
    "import sys\n",
    "import numpy as np\n",
    "import pandas as pd\n",
    "from librosa import note_to_hz\n",
    "from scipy.io import wavfile\n",
    "from IPython.display import display, Audio\n",
    "from matplotlib import pyplot\n",
    "\n",
    "sys.path.append('../tuner')\n",
    "from tuner_api_wrapper import *"
   ]
  },
  {
   "cell_type": "code",
   "execution_count": null,
   "id": "b340810f-a76c-4128-90f5-03dd647d1f4c",
   "metadata": {},
   "outputs": [],
   "source": [
    "WINDOW_SIZE = 512\n",
    "OSAMP = 64\n",
    "DO_HIGHPASS = False\n",
    "DO_HILBERT_TRANSFORM = False\n",
    "SMOOTHING_WINDOW_1 = 1\n",
    "SMOOTHING_WINDOW_2 = 1"
   ]
  },
  {
   "cell_type": "code",
   "execution_count": null,
   "id": "f3c9d8a3-0bcc-4a16-8318-8b274b3c0095",
   "metadata": {},
   "outputs": [],
   "source": [
    "current_dir = str(Path().resolve())\n",
    "audio_path = os.path.normpath(current_dir + '/../audio/Lopez Island.wav')\n",
    "sample_rate, audio = wavfile.read(audio_path)"
   ]
  },
  {
   "cell_type": "code",
   "execution_count": null,
   "id": "eb5906d4-080f-4ae3-a48b-4d431f63d741",
   "metadata": {},
   "outputs": [],
   "source": [
    "detected_freqs = tuner_pitch_detect(\n",
    "    audio, \n",
    "    sample_rate,\n",
    "    WINDOW_SIZE,\n",
    "    OSAMP,\n",
    "    DO_HIGHPASS,\n",
    "    DO_HILBERT_TRANSFORM,\n",
    ")"
   ]
  },
  {
   "cell_type": "code",
   "execution_count": null,
   "id": "5a10eac1-55a3-412d-92fa-7d897638067a",
   "metadata": {},
   "outputs": [],
   "source": [
    "detected_smoothed_freqs = tuner_smooth(detected_freqs, SMOOTHING_WINDOW_1)"
   ]
  },
  {
   "cell_type": "code",
   "execution_count": null,
   "id": "568883a0-96dd-40a6-bcb9-d619838d1521",
   "metadata": {},
   "outputs": [],
   "source": [
    "c_major = ['C#', 'D', 'E', 'F#', 'G#', 'A', 'B']\n",
    "min_octave = -8\n",
    "max_octave = 8\n",
    "scale = []\n",
    "for octave in range(min_octave, max_octave):\n",
    "    for note in c_major:\n",
    "        scale.append(note_to_hz(note + str(octave)))"
   ]
  },
  {
   "cell_type": "code",
   "execution_count": null,
   "id": "d71d9a7d-be21-4932-a299-6beab0298abb",
   "metadata": {},
   "outputs": [],
   "source": [
    "corrected_freqs = tuner_pitch_snap(detected_freqs, scale)"
   ]
  },
  {
   "cell_type": "code",
   "execution_count": null,
   "id": "27a7381e-52c0-4895-bf5d-54b22b5e2295",
   "metadata": {},
   "outputs": [],
   "source": [
    "corrected_smoothed_freqs = tuner_smooth(corrected_freqs, SMOOTHING_WINDOW_2)"
   ]
  },
  {
   "cell_type": "code",
   "execution_count": null,
   "id": "1546e134-8a12-4bfb-8587-eb9544cf5884",
   "metadata": {},
   "outputs": [],
   "source": [
    "shifted_audio = tuner_pitch_shift(\n",
    "    audio,\n",
    "    sample_rate,\n",
    "    WINDOW_SIZE,\n",
    "    OSAMP,\n",
    "    detected_freqs,\n",
    "    corrected_smoothed_freqs,\n",
    ")"
   ]
  },
  {
   "cell_type": "code",
   "execution_count": null,
   "id": "293cb135-fd1e-425c-a26f-c12be489ce0a",
   "metadata": {},
   "outputs": [],
   "source": [
    "print('Detected frequencies')\n",
    "pyplot.plot(detected_freqs)\n",
    "pyplot.show()\n",
    "print('Detected frequencies (smoothed)')\n",
    "pyplot.plot(detected_smoothed_freqs)\n",
    "pyplot.show()\n",
    "print('Corrected frequencies')\n",
    "pyplot.plot(corrected_freqs)\n",
    "pyplot.show()\n",
    "print('Corrected frequencies (smoothed)')\n",
    "pyplot.plot(corrected_smoothed_freqs)\n",
    "pyplot.show()\n",
    "print('Original audio')\n",
    "display(Audio(audio, rate=sample_rate))\n",
    "print('Pitch shifted audio')\n",
    "display(Audio(shifted_audio, rate=sample_rate))"
   ]
  },
  {
   "cell_type": "code",
   "execution_count": null,
   "id": "5596535c-7e49-405b-9f57-4263834235d3",
   "metadata": {},
   "outputs": [],
   "source": []
  }
 ],
 "metadata": {
  "kernelspec": {
   "display_name": "Python 3 (ipykernel)",
   "language": "python",
   "name": "python3"
  },
  "language_info": {
   "codemirror_mode": {
    "name": "ipython",
    "version": 3
   },
   "file_extension": ".py",
   "mimetype": "text/x-python",
   "name": "python",
   "nbconvert_exporter": "python",
   "pygments_lexer": "ipython3",
   "version": "3.10.6"
  }
 },
 "nbformat": 4,
 "nbformat_minor": 5
}
